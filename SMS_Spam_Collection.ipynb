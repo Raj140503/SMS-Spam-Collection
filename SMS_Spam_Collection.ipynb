{
  "nbformat": 4,
  "nbformat_minor": 0,
  "metadata": {
    "colab": {
      "provenance": []
    },
    "kernelspec": {
      "name": "python3",
      "display_name": "Python 3"
    },
    "language_info": {
      "name": "python"
    }
  },
  "cells": [
    {
      "cell_type": "markdown",
      "source": [
        "# **SMS Spam Collection**\n",
        "\n",
        "Build an AI model that can classify SMS messages as spam or\n",
        "legitimate. Use techniques like TF-IDF or word embeddings with\n",
        "classifiers like Naive Bayes, Logistic Regression, or Support Vector\n",
        "Machines to identify spam messages\n",
        "\n",
        "**Dataset URL -** https://raw.githubusercontent.com/justmarkham/pycon-2016-tutorial/master/data/sms.tsv"
      ],
      "metadata": {
        "id": "O6IiG3_onUXt"
      }
    },
    {
      "cell_type": "markdown",
      "source": [
        "**1. Import Libraries and Load data**"
      ],
      "metadata": {
        "id": "h32-uZSGn6nJ"
      }
    },
    {
      "cell_type": "code",
      "execution_count": 1,
      "metadata": {
        "id": "Y0ctlg7Qe9jH"
      },
      "outputs": [],
      "source": [
        "import pandas as pd\n",
        "from sklearn.naive_bayes import MultinomialNB\n",
        "from sklearn.feature_extraction.text import TfidfVectorizer\n",
        "from sklearn.model_selection import train_test_split\n",
        "from sklearn.metrics import classification_report\n",
        "from sklearn.svm import SVC\n",
        "from sklearn.linear_model import LogisticRegression"
      ]
    },
    {
      "cell_type": "code",
      "source": [
        "url = 'https://raw.githubusercontent.com/justmarkham/pycon-2016-tutorial/master/data/sms.tsv'\n",
        "data = pd.read_csv(url, sep='\\t', header=None, names=['label', 'message'])"
      ],
      "metadata": {
        "id": "zzMkvbK5gEM_"
      },
      "execution_count": 26,
      "outputs": []
    },
    {
      "cell_type": "markdown",
      "source": [
        "**2. Encode Labels and Fill Missing values**"
      ],
      "metadata": {
        "id": "vwjqx27joGP7"
      }
    },
    {
      "cell_type": "code",
      "source": [
        "data['label'] = data['label'].map({'ham': 0, 'spam': 1})"
      ],
      "metadata": {
        "id": "pf51pGQ9hERA"
      },
      "execution_count": 27,
      "outputs": []
    },
    {
      "cell_type": "code",
      "source": [
        "data['message'] = data['message'].fillna('')"
      ],
      "metadata": {
        "id": "ZWqjOBGGj3MI"
      },
      "execution_count": 28,
      "outputs": []
    },
    {
      "cell_type": "markdown",
      "source": [
        "**3. Split the data**"
      ],
      "metadata": {
        "id": "aXHPQWiQoP-c"
      }
    },
    {
      "cell_type": "code",
      "source": [
        "X_train, X_test, y_train, y_test = train_test_split(data['message'], data['label'], test_size=0.2, random_state=42)"
      ],
      "metadata": {
        "id": "xjRV8opIhNe1"
      },
      "execution_count": 29,
      "outputs": []
    },
    {
      "cell_type": "markdown",
      "source": [
        "**4. Convert all messages to string type**"
      ],
      "metadata": {
        "id": "62Zt0uAyoUx0"
      }
    },
    {
      "cell_type": "code",
      "source": [
        "X_train = X_train.astype(str)\n",
        "X_test = X_test.astype(str)"
      ],
      "metadata": {
        "id": "YhMHKm01jhSc"
      },
      "execution_count": 30,
      "outputs": []
    },
    {
      "cell_type": "markdown",
      "source": [
        "**5. Text preprocessing and TF-IDF feature extraction**"
      ],
      "metadata": {
        "id": "9Rwj_GEfoe9t"
      }
    },
    {
      "cell_type": "code",
      "source": [
        "tfidf = TfidfVectorizer(stop_words='english', max_df=0.95, min_df=1)"
      ],
      "metadata": {
        "id": "aP54Vc2ehUin"
      },
      "execution_count": 31,
      "outputs": []
    },
    {
      "cell_type": "code",
      "source": [
        "X_train_tfidf = tfidf.fit_transform(X_train)\n",
        "X_test_tfidf = tfidf.transform(X_test)"
      ],
      "metadata": {
        "id": "qPqlTpn8jSQC"
      },
      "execution_count": 32,
      "outputs": []
    },
    {
      "cell_type": "markdown",
      "source": [
        "**6. Define classifiers**"
      ],
      "metadata": {
        "id": "N220q3_fomia"
      }
    },
    {
      "cell_type": "code",
      "source": [
        "classifiers = {\n",
        "    'Naive Bayes': MultinomialNB(),\n",
        "    'Logistic Regression': LogisticRegression(max_iter=1000),\n",
        "    'Support Vector Machine': SVC()\n",
        "}"
      ],
      "metadata": {
        "id": "IB-DzFSpkpaG"
      },
      "execution_count": 33,
      "outputs": []
    },
    {
      "cell_type": "markdown",
      "source": [
        "**7. Train, Evaluate models and Print Results**"
      ],
      "metadata": {
        "id": "NT7Ty7vToqMt"
      }
    },
    {
      "cell_type": "code",
      "source": [
        "results = {}\n",
        "for name, clf in classifiers.items():\n",
        "    clf.fit(X_train_tfidf, y_train)\n",
        "    y_pred = clf.predict(X_test_tfidf)\n",
        "    report = classification_report(y_test, y_pred, output_dict=True)\n",
        "    results[name] = report"
      ],
      "metadata": {
        "id": "1Rd_gZwalCtc"
      },
      "execution_count": 34,
      "outputs": []
    },
    {
      "cell_type": "code",
      "source": [
        "for model_name, metrics in results.items():\n",
        "    print(f\"Results for {model_name}:\")\n",
        "    for metric, values in metrics.items():\n",
        "        print(f\"{metric}:\")\n",
        "        if isinstance(values, dict):\n",
        "            for sub_metric, score in values.items():\n",
        "                print(f\"  {sub_metric}: {score}\")\n",
        "        else:\n",
        "            print(f\"  {values}\")\n",
        "    print(\"\\n\")"
      ],
      "metadata": {
        "colab": {
          "base_uri": "https://localhost:8080/"
        },
        "id": "yHeEnO-9liY_",
        "outputId": "b695af3a-03c6-4ed8-ab3a-05a62c74cdf6"
      },
      "execution_count": 36,
      "outputs": [
        {
          "output_type": "stream",
          "name": "stdout",
          "text": [
            "Results for Naive Bayes:\n",
            "0:\n",
            "  precision: 0.9757575757575757\n",
            "  recall: 1.0\n",
            "  f1-score: 0.9877300613496933\n",
            "  support: 966\n",
            "1:\n",
            "  precision: 1.0\n",
            "  recall: 0.8389261744966443\n",
            "  f1-score: 0.9124087591240876\n",
            "  support: 149\n",
            "accuracy:\n",
            "  0.97847533632287\n",
            "macro avg:\n",
            "  precision: 0.9878787878787878\n",
            "  recall: 0.9194630872483222\n",
            "  f1-score: 0.9500694102368905\n",
            "  support: 1115\n",
            "weighted avg:\n",
            "  precision: 0.9789971463514063\n",
            "  recall: 0.97847533632287\n",
            "  f1-score: 0.9776647034738053\n",
            "  support: 1115\n",
            "\n",
            "\n",
            "Results for Logistic Regression:\n",
            "0:\n",
            "  precision: 0.966\n",
            "  recall: 1.0\n",
            "  f1-score: 0.982706002034588\n",
            "  support: 966\n",
            "1:\n",
            "  precision: 1.0\n",
            "  recall: 0.7718120805369127\n",
            "  f1-score: 0.8712121212121211\n",
            "  support: 149\n",
            "accuracy:\n",
            "  0.9695067264573991\n",
            "macro avg:\n",
            "  precision: 0.983\n",
            "  recall: 0.8859060402684564\n",
            "  f1-score: 0.9269590616233545\n",
            "  support: 1115\n",
            "weighted avg:\n",
            "  precision: 0.9705434977578475\n",
            "  recall: 0.9695067264573991\n",
            "  f1-score: 0.9678068197542763\n",
            "  support: 1115\n",
            "\n",
            "\n",
            "Results for Support Vector Machine:\n",
            "0:\n",
            "  precision: 0.982706002034588\n",
            "  recall: 1.0\n",
            "  f1-score: 0.9912775782452541\n",
            "  support: 966\n",
            "1:\n",
            "  precision: 1.0\n",
            "  recall: 0.8859060402684564\n",
            "  f1-score: 0.9395017793594307\n",
            "  support: 149\n",
            "accuracy:\n",
            "  0.9847533632286996\n",
            "macro avg:\n",
            "  precision: 0.991353001017294\n",
            "  recall: 0.9429530201342282\n",
            "  f1-score: 0.9653896788023424\n",
            "  support: 1115\n",
            "weighted avg:\n",
            "  precision: 0.9850170385340018\n",
            "  recall: 0.9847533632286996\n",
            "  f1-score: 0.9843586598291215\n",
            "  support: 1115\n",
            "\n",
            "\n"
          ]
        }
      ]
    }
  ]
}